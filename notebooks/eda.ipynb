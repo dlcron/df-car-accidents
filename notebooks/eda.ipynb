{
 "cells": [
  {
   "cell_type": "code",
   "execution_count": 1,
   "metadata": {},
   "outputs": [],
   "source": [
    "import pickle\n",
    "\n",
    "import pandas as pd\n"
   ]
  },
  {
   "cell_type": "code",
   "execution_count": 2,
   "metadata": {},
   "outputs": [],
   "source": [
    "INPUT_FOLDER = \"../input\"\n",
    "DATA = f\"{INPUT_FOLDER}/accidents.csv\""
   ]
  },
  {
   "cell_type": "code",
   "execution_count": 3,
   "metadata": {},
   "outputs": [],
   "source": [
    "def read_pickle(fname):\n",
    "    with open(f\"{INPUT_FOLDER}/{fname}.pickle\", \"rb\") as f:\n",
    "        return pickle.load(f)\n"
   ]
  },
  {
   "cell_type": "code",
   "execution_count": 4,
   "metadata": {},
   "outputs": [],
   "source": [
    "accidents_only_roads_gdf = read_pickle(\"accidents_enriched_gdf\")\n",
    "pois_gdf = read_pickle(\"pois_gdf\")\n",
    "shape_gdf = read_pickle(\"shape_gdf\")"
   ]
  },
  {
   "cell_type": "code",
   "execution_count": 5,
   "metadata": {},
   "outputs": [
    {
     "data": {
      "text/html": [
       "<div>\n",
       "<style scoped>\n",
       "    .dataframe tbody tr th:only-of-type {\n",
       "        vertical-align: middle;\n",
       "    }\n",
       "\n",
       "    .dataframe tbody tr th {\n",
       "        vertical-align: top;\n",
       "    }\n",
       "\n",
       "    .dataframe thead th {\n",
       "        text-align: right;\n",
       "    }\n",
       "</style>\n",
       "<table border=\"1\" class=\"dataframe\">\n",
       "  <thead>\n",
       "    <tr style=\"text-align: right;\">\n",
       "      <th></th>\n",
       "      <th>Data zdarzenia</th>\n",
       "      <th>Godzina</th>\n",
       "      <th>GPS x</th>\n",
       "      <th>GPS y</th>\n",
       "      <th>Miejscowość</th>\n",
       "      <th>Ulica</th>\n",
       "      <th>Numer domu</th>\n",
       "      <th>Numer drogi</th>\n",
       "      <th>KM HM (Pikietaż)</th>\n",
       "      <th>Obszar</th>\n",
       "      <th>...</th>\n",
       "      <th>Liczba wypadków</th>\n",
       "      <th>Lon</th>\n",
       "      <th>Lat</th>\n",
       "      <th>geometry</th>\n",
       "      <th>geometry_circle</th>\n",
       "      <th>index_right</th>\n",
       "      <th>id</th>\n",
       "      <th>tags</th>\n",
       "      <th>highway</th>\n",
       "      <th>maxspeed</th>\n",
       "    </tr>\n",
       "  </thead>\n",
       "  <tbody>\n",
       "    <tr>\n",
       "      <th>0</th>\n",
       "      <td>2016-01-01</td>\n",
       "      <td>05:15:00</td>\n",
       "      <td>18*38'089</td>\n",
       "      <td>50*22'110</td>\n",
       "      <td>GLIWICE</td>\n",
       "      <td>TOSZECKA</td>\n",
       "      <td>NaN</td>\n",
       "      <td>901</td>\n",
       "      <td>61,6</td>\n",
       "      <td>Obszar niezabudowany</td>\n",
       "      <td>...</td>\n",
       "      <td>0</td>\n",
       "      <td>18.635806</td>\n",
       "      <td>50.369722</td>\n",
       "      <td>POLYGON ((18.63591 50.36972, 18.63591 50.36971...</td>\n",
       "      <td>POLYGON ((18.63591 50.36972, 18.63591 50.36971...</td>\n",
       "      <td>NaN</td>\n",
       "      <td>NaN</td>\n",
       "      <td>NaN</td>\n",
       "      <td>NaN</td>\n",
       "      <td>NaN</td>\n",
       "    </tr>\n",
       "    <tr>\n",
       "      <th>1</th>\n",
       "      <td>2016-01-01</td>\n",
       "      <td>00:05:00</td>\n",
       "      <td>19*10'510</td>\n",
       "      <td>50*19'231</td>\n",
       "      <td>DĄBROWA GÓRNICZA</td>\n",
       "      <td>SIENKIEWICZA</td>\n",
       "      <td>NaN</td>\n",
       "      <td>G200 030S</td>\n",
       "      <td>NaN</td>\n",
       "      <td>Obszar zabudowany</td>\n",
       "      <td>...</td>\n",
       "      <td>0</td>\n",
       "      <td>19.180833</td>\n",
       "      <td>50.323083</td>\n",
       "      <td>POLYGON ((19.18093 50.32308, 19.18093 50.32307...</td>\n",
       "      <td>POLYGON ((19.18093 50.32308, 19.18093 50.32307...</td>\n",
       "      <td>131903.0</td>\n",
       "      <td>way/173123561</td>\n",
       "      <td>{'footway': 'sidewalk', 'highway': 'residentia...</td>\n",
       "      <td>residential</td>\n",
       "      <td>NaN</td>\n",
       "    </tr>\n",
       "  </tbody>\n",
       "</table>\n",
       "<p>2 rows × 39 columns</p>\n",
       "</div>"
      ],
      "text/plain": [
       "  Data zdarzenia   Godzina      GPS x      GPS y       Miejscowość  \\\n",
       "0     2016-01-01  05:15:00  18*38'089  50*22'110           GLIWICE   \n",
       "1     2016-01-01  00:05:00  19*10'510  50*19'231  DĄBROWA GÓRNICZA   \n",
       "\n",
       "          Ulica Numer domu Numer drogi KM HM (Pikietaż)                Obszar  \\\n",
       "0      TOSZECKA        NaN         901             61,6  Obszar niezabudowany   \n",
       "1  SIENKIEWICZA        NaN   G200 030S              NaN     Obszar zabudowany   \n",
       "\n",
       "   ... Liczba wypadków        Lon        Lat  \\\n",
       "0  ...               0  18.635806  50.369722   \n",
       "1  ...               0  19.180833  50.323083   \n",
       "\n",
       "                                            geometry  \\\n",
       "0  POLYGON ((18.63591 50.36972, 18.63591 50.36971...   \n",
       "1  POLYGON ((19.18093 50.32308, 19.18093 50.32307...   \n",
       "\n",
       "                                     geometry_circle index_right  \\\n",
       "0  POLYGON ((18.63591 50.36972, 18.63591 50.36971...         NaN   \n",
       "1  POLYGON ((19.18093 50.32308, 19.18093 50.32307...    131903.0   \n",
       "\n",
       "              id                                               tags  \\\n",
       "0            NaN                                                NaN   \n",
       "1  way/173123561  {'footway': 'sidewalk', 'highway': 'residentia...   \n",
       "\n",
       "       highway maxspeed  \n",
       "0          NaN      NaN  \n",
       "1  residential      NaN  \n",
       "\n",
       "[2 rows x 39 columns]"
      ]
     },
     "execution_count": 5,
     "metadata": {},
     "output_type": "execute_result"
    }
   ],
   "source": [
    "accidents_only_roads_gdf.head(2)"
   ]
  },
  {
   "cell_type": "code",
   "execution_count": 6,
   "metadata": {},
   "outputs": [
    {
     "data": {
      "text/html": [
       "<div>\n",
       "<style scoped>\n",
       "    .dataframe tbody tr th:only-of-type {\n",
       "        vertical-align: middle;\n",
       "    }\n",
       "\n",
       "    .dataframe tbody tr th {\n",
       "        vertical-align: top;\n",
       "    }\n",
       "\n",
       "    .dataframe thead th {\n",
       "        text-align: right;\n",
       "    }\n",
       "</style>\n",
       "<table border=\"1\" class=\"dataframe\">\n",
       "  <thead>\n",
       "    <tr style=\"text-align: right;\">\n",
       "      <th></th>\n",
       "      <th>id</th>\n",
       "      <th>tags</th>\n",
       "      <th>date_added</th>\n",
       "      <th>geometry</th>\n",
       "    </tr>\n",
       "  </thead>\n",
       "  <tbody>\n",
       "    <tr>\n",
       "      <th>0</th>\n",
       "      <td>node/1328467</td>\n",
       "      <td>{'highway': 'crossing'}</td>\n",
       "      <td>2015-11-07T19:02:37</td>\n",
       "      <td>POINT (18.08480 49.75204)</td>\n",
       "    </tr>\n",
       "    <tr>\n",
       "      <th>1</th>\n",
       "      <td>node/1328469</td>\n",
       "      <td>{'highway': 'crossing', 'source': 'HELP SERVIC...</td>\n",
       "      <td>2015-11-07T19:02:37</td>\n",
       "      <td>POINT (18.08587 49.75220)</td>\n",
       "    </tr>\n",
       "  </tbody>\n",
       "</table>\n",
       "</div>"
      ],
      "text/plain": [
       "             id                                               tags  \\\n",
       "0  node/1328467                            {'highway': 'crossing'}   \n",
       "1  node/1328469  {'highway': 'crossing', 'source': 'HELP SERVIC...   \n",
       "\n",
       "            date_added                   geometry  \n",
       "0  2015-11-07T19:02:37  POINT (18.08480 49.75204)  \n",
       "1  2015-11-07T19:02:37  POINT (18.08587 49.75220)  "
      ]
     },
     "execution_count": 6,
     "metadata": {},
     "output_type": "execute_result"
    }
   ],
   "source": [
    "pois_gdf.head(2)"
   ]
  },
  {
   "cell_type": "code",
   "execution_count": 7,
   "metadata": {},
   "outputs": [
    {
     "data": {
      "text/html": [
       "<div>\n",
       "<style scoped>\n",
       "    .dataframe tbody tr th:only-of-type {\n",
       "        vertical-align: middle;\n",
       "    }\n",
       "\n",
       "    .dataframe tbody tr th {\n",
       "        vertical-align: top;\n",
       "    }\n",
       "\n",
       "    .dataframe thead th {\n",
       "        text-align: right;\n",
       "    }\n",
       "</style>\n",
       "<table border=\"1\" class=\"dataframe\">\n",
       "  <thead>\n",
       "    <tr style=\"text-align: right;\">\n",
       "      <th></th>\n",
       "      <th>geometry</th>\n",
       "    </tr>\n",
       "  </thead>\n",
       "  <tbody>\n",
       "    <tr>\n",
       "      <th>0</th>\n",
       "      <td>POLYGON ((18.03504 50.06577, 18.03601 50.06546...</td>\n",
       "    </tr>\n",
       "  </tbody>\n",
       "</table>\n",
       "</div>"
      ],
      "text/plain": [
       "                                            geometry\n",
       "0  POLYGON ((18.03504 50.06577, 18.03601 50.06546..."
      ]
     },
     "execution_count": 7,
     "metadata": {},
     "output_type": "execute_result"
    }
   ],
   "source": [
    "shape_gdf.head(2)"
   ]
  }
 ],
 "metadata": {
  "kernelspec": {
   "display_name": "Python 3",
   "language": "python",
   "name": "python3"
  },
  "language_info": {
   "codemirror_mode": {
    "name": "ipython",
    "version": 3
   },
   "file_extension": ".py",
   "mimetype": "text/x-python",
   "name": "python",
   "nbconvert_exporter": "python",
   "pygments_lexer": "ipython3",
   "version": "3.8.2"
  }
 },
 "nbformat": 4,
 "nbformat_minor": 4
}
